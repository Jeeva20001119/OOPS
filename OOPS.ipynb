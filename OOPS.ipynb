{
  "nbformat": 4,
  "nbformat_minor": 0,
  "metadata": {
    "colab": {
      "provenance": []
    },
    "kernelspec": {
      "name": "python3",
      "display_name": "Python 3"
    },
    "language_info": {
      "name": "python"
    }
  },
  "cells": [
    {
      "cell_type": "code",
      "execution_count": null,
      "metadata": {
        "id": "Z3V38asvh7sW"
      },
      "outputs": [],
      "source": []
    },
    {
      "cell_type": "markdown",
      "source": [
        "**Theory Questions**\n",
        "\n",
        "1.  What is Object-Oriented Programming (OOP)?\n",
        "  - Object-Oriented Programming (OOP) is a programming paradigm (style of programming) that organizes software design around objects rather than functions and logic.\n",
        "  - Objects represent real-world entities with attributes (data) and methods (behavior).\n",
        "  - These objects are instances of classes, which are blueprints or templates that define what data and behavior an object should have.\n",
        " -  Key Concepts of OOP -Class,Object,Encapsulation,Inheritance,Polymorphism,Abstraction.\n",
        "2. What is a class in OOP?\n",
        "  - A class is a blueprint or template for creating objects (instances).\n",
        "It defines:\n",
        "    - Attributes (data/properties) — what the object has\n",
        "    - Methods (functions/behavior) — what the object does\n",
        "  - A class itself does not hold data for a specific object — it just describes how the object should be structured.\n",
        "3. What is an object in OOP?\n",
        "  - An object is an instance of a class.\n",
        "It’s a real, usable entity created based on a class blueprint.\n",
        " - A class defines what attributes and methods an object should have, and an object is the actual thing you work with in your program.\n",
        "\n",
        "4. What is the difference between abstraction and encapsulation?\n",
        "  - Abstraction:\n",
        "     - Hiding complex implementation details and showing only essential features.\n",
        "     - Focuses on what an object does.\n",
        "     - To reduce complexity and increase efficiency for the user by showing only necessary operations.\n",
        "     - Achieved through abstract classes or interfaces (in some languages like Java, C++). In Python, it’s more conceptual, but can be done using base classes.\n",
        "  - Encapsulation:\n",
        "      - Hiding the internal state of an object and restricting direct access to it.\n",
        "      - Focuses on how the data is protected and controlled.\n",
        "      - To safeguard the object’s data from unintended interference and misuse.\n",
        "      - Achieved using private/protected variables and providing public getter and setter methods.\n",
        "5. What are dunder methods in Python?\n",
        "  - Dunder methods (short for Double UNDERSCORE methods) are special predefined methods in Python that have double underscores __ before and after their names.\n",
        "  - These methods let you define how objects of your class should behave with built-in Python operations like:Printing,Adding objects,Comparing objects,Getting length,Iterating over an object and more.\n",
        "6. Explain the concept of inheritance in OOP?\n",
        "  - Inheritance is a mechanism in OOP where one class (called the child class or subclass) can inherit the attributes and methods of another class (called the parent class or base class).\n",
        "  - This allows you to: Reuse existing code, Extend or modify behavior without changing the original class, Implement a natural “is-a” relationship between classes (e.g. A Dog is an Animal)\n",
        "7. What is polymorphism in OOP?\n",
        "  - In Object-Oriented Programming (OOP), polymorphism means the ability of different classes to respond to the same method name in different ways.\n",
        "  - It allows you to use a common interface while different types of objects behave differently when the same method is called on them.\n",
        "8. How is encapsulation achieved in Python?\n",
        "  - Encapsulation is the practice of restricting direct access to an object's data and allowing it only through methods (getters, setters).\n",
        " - It hides the internal state of an object and protects it from unintended interference.\n",
        " - Public attributes/methods (variable )-\tAccessible from anywhere.\n",
        " - Protected attributes/methods (_variable) -\tIntended for internal use, still accessible but should be treated as private.\n",
        " - Private attributes/methods (__variable) - Name-mangled by Python to prevent direct access.\n",
        "9.  What is a constructor in Python?\n",
        "  - A constructor is a special method that automatically runs when an object is created from a class.\n",
        "  - It’s used to initialize the object’s attributes with default or specific values at the time of creation.\n",
        "  - In Python, the constructor method is always named __init__().\n",
        "10. What are class and static methods in Python?\n",
        " - Both class methods and static methods are special methods in Python classes that are not bound to object instances the same way as regular methods.\n",
        " - Class method: A class method is a method that receives the class itself as the first argument (commonly named cls), instead of the instance (self).\n",
        " - Access and modify class-level attributes.Be called on both the class itself and its instances.\n",
        " - Static method: A static method does not take self or cls as a parameter.\n",
        "  It behaves like a regular function but belongs to the class’s namespace.\n",
        " -Be logically related to the class.Not access or modify class or instance attributes.\n",
        "11. What is method overloading in Python?\n",
        " - Method Overloading is a concept where multiple methods in the same class share the same name but have different parameters (different number or type of arguments).\n",
        " - Python does not support traditional method overloading directly —if you define multiple methods with the same name, the last definition overwrites.\n",
        " - Using default arguments ,Using *args and **kwargs to accept a variable number of arguments Or manually handling different numbers/types of arguments inside a single method.\n",
        "12.  What is method overriding in OOP?\n",
        " - Method Overriding occurs when a child class provides a specific implementation for a method that is already defined in its parent class.\n",
        " - The child class method replaces (overrides) the parent class method when called from a child class object.\n",
        " - This enables runtime polymorphism — where the call to an overridden method is determined at runtime based on the object's class.\n",
        "13. What is a property decorator in Python?\n",
        " - The property decorator in Python is used to turn a class method into a read-only property.\n",
        "  - It allows you to access a method like an attribute, without calling it like a function.\n",
        "  - It’s part of Python’s way of implementing getter, setter, and deleter methods in a clean and Pythonic way, while still providing control over attribute access.\n",
        "14.  Why is polymorphism important in OOP?\n",
        " - Polymorphism is important because it allows different classes to be treated as if they were instances of the same class through a common interface — even though they behave differently.\n",
        " - it's supporting Flexible ,Reusable,Maintainable,Extensible.\n",
        "15. What is an abstract class in Python?\n",
        "  - An abstract class is a class that cannot be instantiated directly.\n",
        "  - It’s designed to serve as a base class for other classes and typically contains one or more abstract methods — methods that are declared but don’t have a complete implementation.\n",
        "  - Abstract classes act as blueprints for subclasses.\n",
        "  - Subclasses must implement the abstract methods defined in the abstract class.\n",
        "16.  What are the advantages of OOP?\n",
        "  - OOP makes your code easier to manage, scale, reuse, and model around real-world scenarios.\n",
        "  -  It supports clean, maintainable, and reliable software development.\n",
        "  - Advantages are: Code Reusability, Modularity, Data Hiding (Encapsulation), Easy to Maintain and Modify, Extensibility and Scalability, Real-World Modeling, Flexibility through Polymorphism, Promotes DRY Principle , Better Collaboration and Teamwork.\n",
        "17. What is the difference between a class variable and an instance variable?\n",
        " - Class Variable:\n",
        "      - A variable that is shared by all instances of a class.\n",
        "      - Directly inside the class body, but outside any methods.\n",
        "      - Can be accessed using ClassName.variable or self.variable.\n",
        "      - One copy exists, shared by all objects of the class.\n",
        "      - When a property should be common for all objects of the class.\n",
        "  - Instance Variable:\n",
        "      - A variable that is unique to each instance (object) of the class.\n",
        "      - Inside the constructor (__init__ method) using self.\n",
        "      - Accessed using self.variable (specific to the object).\n",
        "      - Each object has its own copy, with independent values.\n",
        "      - When each object needs to store different data for the same attribute.\n",
        "18. What is multiple inheritance in Python?\n",
        " - Multiple inheritance is a feature in which a child class can inherit from more than one parent class. This means a single class can have the properties and methods of multiple classes.\n",
        " - Python fully supports multiple inheritance, unlike some languages like Java (which avoid it due to ambiguity problems like the diamond problem — which Python handles using the Method Resolution Order (MRO)).\n",
        "19. Explain the purpose of ‘’__str__’ and ‘__repr__’ ‘ methods in Python?\n",
        "  - str() - For End-User (Readable Output)\n",
        "      - Defines the \"informal\" or \"user-friendly\" string representation of an object.\n",
        "      - Called by functions like print() or str().\n",
        "      - Meant for displaying information to end users.\n",
        "  - repr() - (Debugging/Official Representation)\n",
        "       - Defines the \"official\" or \"developer-friendly\" string representation of an object.\n",
        "       - Called by the repr() function, or by the interpreter when you type an object name in a Python shell.\n",
        "       - Meant to be unambiguous and ideally should be valid Python code to recreate the object.\n",
        "20. What is the significance of the ‘super()’ function in Python?\n",
        "  - The super() function is used to call a method from the parent (or superclass) inside a child (subclass).\n",
        "  - It allows you to access and invoke the methods of a superclass from a subclass without explicitly naming the parent class.\n",
        "  - Most commonly used to: Invoke the parent class’s constructor (__init__()),\n",
        "   Call parent class methods that have been overridden in the child class.\n",
        "21.  What is the significance of the __del__ method in Python?\n",
        "  - The __del__() method is a special (dunder) method in Python called a destructor.\n",
        "  - It is automatically invoked when an object is about to be destroyed.\n",
        "  - It allows you to define cleanup actions that need to be taken when an object is no longer needed — like: Closing open files or network connections,Releasing memory or resources, Logging object deletion events.\n",
        "22. What is the difference between @staticmethod and @classmethod in Python?\n",
        " - @static method:\n",
        "     - Does not receive self or cls as its first argument.\n",
        "     - Cannot access or modify class or instance attributes.\n",
        "     - Behaves like a regular function placed inside a class for organizational purposes.\n",
        "     - Called using either the class name or an instance.\n",
        "  - @class method:\n",
        "     - Receives cls as its first argument (not self).\n",
        "     - Can access or modify class variables.\n",
        "     - Is called using either the class name or an instance.\n",
        "     - Typically used for factory methods (methods that create instances in a specific way) or for modifying class-level data.\n",
        "23. How does polymorphism work in Python with inheritance?\n",
        " - In Python, polymorphism with inheritance means that:\n",
        " - A child class can override methods of its parent class.\n",
        " - You can write code that works on objects of different classes through a common interface (parent class methods).\n",
        " - At runtime, the method call is resolved based on the actual object's type — not the reference type.\n",
        " - This is called runtime polymorphism (or dynamic method dispatch).\n",
        "24. What is method chaining in Python OOP?\n",
        "  - Method chaining is a technique in which multiple methods are called sequentially on the same object in a single line of code.\n",
        "  - Each method returns the object itself (usually using return self), so the next method can be called on the same instance.\n",
        "  - It improves: Code readability, Conciseness, Clean fluent interfaces.\n",
        "25. What is the purpose of the __call__ method in Python?\n",
        " - The __call__() method allows an instance of a class to be called like a function.\n",
        " - When you use the syntax object() — Python will internally call object.__call__() if it’s defined.\n",
        " - You can make an object behave like a function.\n",
        " - It allows you to encapsulate behavior inside an object while still using function-call syntax.\n",
        "\n",
        "\n",
        "\n",
        "\n",
        "\n",
        "\n"
      ],
      "metadata": {
        "id": "DJL3wHL6h-wr"
      }
    },
    {
      "cell_type": "markdown",
      "source": [
        "**Practical Questions**\n",
        "\n",
        "1. Create a parent class Animal with a method speak() that prints a generic message. Create a child class Dog that overrides the speak() method to print \"Bark!\"."
      ],
      "metadata": {
        "id": "YUsUUegj2C1j"
      }
    },
    {
      "cell_type": "code",
      "source": [
        "# Parent class\n",
        "class Animal:\n",
        "    def speak(self):\n",
        "        print(\"Some generic animal sound.\")\n",
        "\n",
        "# Child class inheriting from Animal\n",
        "class Dog(Animal):\n",
        "    def speak(self):\n",
        "        print(\"Bark!\")\n",
        "\n",
        "# Create objects and test\n",
        "a = Animal()\n",
        "a.speak()    # Output: Some generic animal sound.\n",
        "\n",
        "d = Dog()\n",
        "d.speak()    # Output: Bark!"
      ],
      "metadata": {
        "colab": {
          "base_uri": "https://localhost:8080/"
        },
        "id": "vF2BcoZm2VpY",
        "outputId": "09b7ab79-72e4-4b65-d65a-0051ee5688ad"
      },
      "execution_count": 1,
      "outputs": [
        {
          "output_type": "stream",
          "name": "stdout",
          "text": [
            "Some generic animal sound.\n",
            "Bark!\n"
          ]
        }
      ]
    },
    {
      "cell_type": "markdown",
      "source": [
        "2. Write a program to create an abstract class Shape with a method area(). Derive classes Circle and Rectangle\n",
        "from it and implement the area() method in both"
      ],
      "metadata": {
        "id": "g3jcbRhd2vHk"
      }
    },
    {
      "cell_type": "code",
      "source": [
        "from abc import ABC, abstractmethod\n",
        "import math\n",
        "\n",
        "# Abstract class\n",
        "class Shape(ABC):\n",
        "    @abstractmethod\n",
        "    def area(self):\n",
        "        pass  # Abstract method — must be implemented by subclasses\n",
        "\n",
        "# Derived class: Circle\n",
        "class Circle(Shape):\n",
        "    def __init__(self, radius):\n",
        "        self.radius = radius\n",
        "\n",
        "    def area(self):\n",
        "        return math.pi * self.radius ** 2\n",
        "\n",
        "# Derived class: Rectangle\n",
        "class Rectangle(Shape):\n",
        "    def __init__(self, length, width):\n",
        "        self.length = length\n",
        "        self.width = width\n",
        "\n",
        "    def area(self):\n",
        "        return self.length * self.width\n",
        "\n",
        "# Create objects and display areas\n",
        "c = Circle(5)\n",
        "r = Rectangle(4, 6)\n",
        "\n",
        "print(f\"Area of Circle: {c.area():.2f}\")\n",
        "print(f\"Area of Rectangle: {r.area()}\")"
      ],
      "metadata": {
        "colab": {
          "base_uri": "https://localhost:8080/"
        },
        "id": "kF8G0rcp22tc",
        "outputId": "139f68aa-9eae-403f-ded4-d2e66ccb0b32"
      },
      "execution_count": 2,
      "outputs": [
        {
          "output_type": "stream",
          "name": "stdout",
          "text": [
            "Area of Circle: 78.54\n",
            "Area of Rectangle: 24\n"
          ]
        }
      ]
    },
    {
      "cell_type": "markdown",
      "source": [
        "3. Implement a multi-level inheritance scenario where a class Vehicle has an attribute type. Derive a class Car\n",
        "and further derive a class ElectricCar that adds a battery attribute"
      ],
      "metadata": {
        "id": "EKbT0mmV3nyh"
      }
    },
    {
      "cell_type": "code",
      "source": [
        "class Vehicle:\n",
        "    def __init__(self, vehicle_type):\n",
        "        self.vehicle_type = vehicle_type\n",
        "\n",
        "    def show_type(self):\n",
        "        print(f\"Vehicle Type: {self.vehicle_type}\")\n",
        "\n",
        "# Derived class from Vehicle\n",
        "class Car(Vehicle):\n",
        "    def __init__(self, vehicle_type, brand):\n",
        "        super().__init__(vehicle_type)  # Call Vehicle's constructor\n",
        "        self.brand = brand\n",
        "\n",
        "    def show_brand(self):\n",
        "        print(f\"Car Brand: {self.brand}\")\n",
        "\n",
        "# Further derived class from Car\n",
        "class ElectricCar(Car):\n",
        "    def __init__(self, vehicle_type, brand, battery_capacity):\n",
        "        super().__init__(vehicle_type, brand)  # Call Car's constructor\n",
        "        self.battery_capacity = battery_capacity\n",
        "\n",
        "    def show_battery(self):\n",
        "        print(f\"Battery Capacity: {self.battery_capacity} kWh\")\n",
        "\n",
        "# Create an object of ElectricCar\n",
        "ecar = ElectricCar(\"Four Wheeler\", \"Tesla\", 75)\n",
        "\n",
        "# Call methods from all levels\n",
        "ecar.show_type()\n",
        "ecar.show_brand()\n",
        "ecar.show_battery()"
      ],
      "metadata": {
        "colab": {
          "base_uri": "https://localhost:8080/"
        },
        "id": "WkqGyAWJ4JRP",
        "outputId": "9e7e08cc-3a4a-4a69-b3c7-51050edcb2d4"
      },
      "execution_count": 3,
      "outputs": [
        {
          "output_type": "stream",
          "name": "stdout",
          "text": [
            "Vehicle Type: Four Wheeler\n",
            "Car Brand: Tesla\n",
            "Battery Capacity: 75 kWh\n"
          ]
        }
      ]
    },
    {
      "cell_type": "markdown",
      "source": [
        " 4. Demonstrate polymorphism by creating a base class Bird with a method fly(). Create two derived classes Sparrow and Penguin that override the fly() method."
      ],
      "metadata": {
        "id": "5J-3Bo-L4V7D"
      }
    },
    {
      "cell_type": "code",
      "source": [
        "class Bird:\n",
        "    def fly(self):\n",
        "        print(\"Bird is flying.\")\n",
        "\n",
        "# Derived class 1\n",
        "class Sparrow(Bird):\n",
        "    def fly(self):\n",
        "        print(\"Sparrow flies high in the sky.\")\n",
        "\n",
        "# Derived class 2\n",
        "class Penguin(Bird):\n",
        "    def fly(self):\n",
        "        print(\"Penguins can't fly, they swim.\")\n",
        "\n",
        "# Function demonstrating polymorphism\n",
        "def bird_flight(bird):\n",
        "    bird.fly()\n",
        "\n",
        "# Create objects of derived classes\n",
        "sparrow = Sparrow()\n",
        "penguin = Penguin()\n",
        "\n",
        "# Call the function with different bird objects\n",
        "bird_flight(sparrow)\n",
        "bird_flight(penguin)\n"
      ],
      "metadata": {
        "colab": {
          "base_uri": "https://localhost:8080/"
        },
        "id": "KMA0zfBv4kbf",
        "outputId": "f493de31-dc45-4516-a4c3-106f94fc3702"
      },
      "execution_count": 4,
      "outputs": [
        {
          "output_type": "stream",
          "name": "stdout",
          "text": [
            "Sparrow flies high in the sky.\n",
            "Penguins can't fly, they swim.\n"
          ]
        }
      ]
    },
    {
      "cell_type": "markdown",
      "source": [
        "5. Write a program to demonstrate encapsulation by creating a class BankAccount with private attributes balance and methods to deposit, withdraw, and check balance"
      ],
      "metadata": {
        "id": "2CjgD9gj4sMr"
      }
    },
    {
      "cell_type": "code",
      "source": [
        "class BankAccount:\n",
        "    def __init__(self, account_number, initial_balance=0):\n",
        "        self.account_number = account_number\n",
        "        self.__balance = initial_balance  # Private attribute\n",
        "\n",
        "    # Method to deposit money\n",
        "    def deposit(self, amount):\n",
        "        if amount > 0:\n",
        "            self.__balance += amount\n",
        "            print(f\"Deposited ₹{amount}.\")\n",
        "        else:\n",
        "            print(\"Invalid deposit amount.\")\n",
        "\n",
        "    # Method to withdraw money\n",
        "    def withdraw(self, amount):\n",
        "        if 0 < amount <= self.__balance:\n",
        "            self.__balance -= amount\n",
        "            print(f\"Withdrew ₹{amount}.\")\n",
        "        else:\n",
        "            print(\"Insufficient balance or invalid amount.\")\n",
        "\n",
        "    # Method to check balance\n",
        "    def check_balance(self):\n",
        "        print(f\"Available Balance: ₹{self.__balance}\")\n",
        "\n",
        "# Create a BankAccount object\n",
        "account = BankAccount(\"1234567890\", 5000)\n",
        "\n",
        "# Perform operations\n",
        "account.deposit(2000)\n",
        "account.withdraw(1500)\n",
        "account.check_balance()\n"
      ],
      "metadata": {
        "colab": {
          "base_uri": "https://localhost:8080/"
        },
        "id": "AH5jwNb15HVg",
        "outputId": "dd6f0925-1bfb-4343-f9bd-9aeec14a08fd"
      },
      "execution_count": 5,
      "outputs": [
        {
          "output_type": "stream",
          "name": "stdout",
          "text": [
            "Deposited ₹2000.\n",
            "Withdrew ₹1500.\n",
            "Available Balance: ₹5500\n"
          ]
        }
      ]
    },
    {
      "cell_type": "markdown",
      "source": [
        "6. Demonstrate runtime polymorphism using a method play() in a base class Instrument. Derive classes Guitar and Piano that implement their own version of play()"
      ],
      "metadata": {
        "id": "znt7BBhk5PSx"
      }
    },
    {
      "cell_type": "code",
      "source": [
        "class Instrument:\n",
        "    def play(self):\n",
        "        print(\"Playing an instrument.\")\n",
        "\n",
        "# Derived class: Guitar\n",
        "class Guitar(Instrument):\n",
        "    def play(self):\n",
        "        print(\"Strumming the guitar.\")\n",
        "\n",
        "# Derived class: Piano\n",
        "class Piano(Instrument):\n",
        "    def play(self):\n",
        "        print(\"Playing the piano keys.\")\n",
        "\n",
        "# Function demonstrating runtime polymorphism\n",
        "def start_playing(instrument):\n",
        "    instrument.play()\n",
        "\n",
        "# Create objects of derived classes\n",
        "guitar = Guitar()\n",
        "piano = Piano()\n",
        "\n",
        "# Call the function with different instrument objects\n",
        "start_playing(guitar)\n",
        "start_playing(piano)"
      ],
      "metadata": {
        "colab": {
          "base_uri": "https://localhost:8080/"
        },
        "id": "R5JMF93d5bq8",
        "outputId": "7302ae7a-8cb2-4ec7-db7d-e147662b00d2"
      },
      "execution_count": 6,
      "outputs": [
        {
          "output_type": "stream",
          "name": "stdout",
          "text": [
            "Strumming the guitar.\n",
            "Playing the piano keys.\n"
          ]
        }
      ]
    },
    {
      "cell_type": "markdown",
      "source": [
        "7. Create a class MathOperations with a class method add_numbers() to add two numbers and a static method subtract_numbers() to subtract two numbers."
      ],
      "metadata": {
        "id": "QpRVYAnn5sFS"
      }
    },
    {
      "cell_type": "code",
      "source": [
        "class MathOperations:\n",
        "    # Class method\n",
        "    @classmethod\n",
        "    def add_numbers(cls, a, b):\n",
        "        return a + b\n",
        "\n",
        "    # Static method\n",
        "    @staticmethod\n",
        "    def subtract_numbers(a, b):\n",
        "        return a - b\n",
        "\n",
        "# Using class method\n",
        "result_add = MathOperations.add_numbers(10, 5)\n",
        "print(f\"Addition Result: {result_add}\")\n",
        "\n",
        "# Using static method\n",
        "result_sub = MathOperations.subtract_numbers(10, 5)\n",
        "print(f\"Subtraction Result: {result_sub}\")\n"
      ],
      "metadata": {
        "colab": {
          "base_uri": "https://localhost:8080/"
        },
        "id": "tBpcv3Nw54Kj",
        "outputId": "5d350c4c-7676-4243-8e0a-1d9a45b11d1c"
      },
      "execution_count": 7,
      "outputs": [
        {
          "output_type": "stream",
          "name": "stdout",
          "text": [
            "Addition Result: 15\n",
            "Subtraction Result: 5\n"
          ]
        }
      ]
    },
    {
      "cell_type": "markdown",
      "source": [
        " 8. Implement a class Person with a class method to count the total number of persons created"
      ],
      "metadata": {
        "id": "fZKNPehI6BxX"
      }
    },
    {
      "cell_type": "code",
      "source": [
        "class Person:\n",
        "    # Class variable to count total persons\n",
        "    total_persons = 0\n",
        "\n",
        "    def __init__(self, name):\n",
        "        self.name = name\n",
        "        # Increment total count when a new object is created\n",
        "        Person.total_persons += 1\n",
        "\n",
        "    # Class method to access class variable\n",
        "    @classmethod\n",
        "    def show_total_persons(cls):\n",
        "        print(f\"Total persons created: {cls.total_persons}\")\n",
        "\n",
        "# Create some Person objects\n",
        "p1 = Person(\"Alice\")\n",
        "p2 = Person(\"Bob\")\n",
        "p3 = Person(\"Charlie\")\n",
        "\n",
        "# Call the class method\n",
        "Person.show_total_persons()"
      ],
      "metadata": {
        "colab": {
          "base_uri": "https://localhost:8080/"
        },
        "id": "TFT2kqrb6NTN",
        "outputId": "cd527aa8-877e-4765-9249-ed3ca00e45e5"
      },
      "execution_count": 8,
      "outputs": [
        {
          "output_type": "stream",
          "name": "stdout",
          "text": [
            "Total persons created: 3\n"
          ]
        }
      ]
    },
    {
      "cell_type": "markdown",
      "source": [
        " 9. Write a class Fraction with attributes numerator and denominator. Override the str method to display the fraction as \"numerator/denominator\"."
      ],
      "metadata": {
        "id": "iyEKmmrW6ZCB"
      }
    },
    {
      "cell_type": "code",
      "source": [
        "class Fraction:\n",
        "    def __init__(self, numerator, denominator):\n",
        "        self.numerator = numerator\n",
        "        self.denominator = denominator\n",
        "\n",
        "    # Override the __str__ method\n",
        "    def __str__(self):\n",
        "        return f\"{self.numerator}/{self.denominator}\"\n",
        "\n",
        "# Create Fraction objects\n",
        "f1 = Fraction(3, 4)\n",
        "f2 = Fraction(5, 8)\n",
        "\n",
        "# Print the fractions\n",
        "print(f1)\n",
        "print(f2)"
      ],
      "metadata": {
        "colab": {
          "base_uri": "https://localhost:8080/"
        },
        "id": "C7bOw5Si6rlM",
        "outputId": "c6e60f3b-72a8-4a2a-8ce5-f1aca36b1ce4"
      },
      "execution_count": 9,
      "outputs": [
        {
          "output_type": "stream",
          "name": "stdout",
          "text": [
            "3/4\n",
            "5/8\n"
          ]
        }
      ]
    },
    {
      "cell_type": "markdown",
      "source": [
        " 10. Demonstrate operator overloading by creating a class Vector and overriding the add method to add two vectors."
      ],
      "metadata": {
        "id": "ZOY0-MgG61ae"
      }
    },
    {
      "cell_type": "code",
      "source": [
        "class Vector:\n",
        "    def __init__(self, x, y):\n",
        "        self.x = x\n",
        "        self.y = y\n",
        "\n",
        "    # Override the __add__ method to add two vectors\n",
        "    def __add__(self, other):\n",
        "        return Vector(self.x + other.x, self.y + other.y)\n",
        "\n",
        "    # For displaying the vector nicely\n",
        "    def __str__(self):\n",
        "        return f\"Vector({self.x}, {self.y})\"\n",
        "\n",
        "# Create two Vector objects\n",
        "v1 = Vector(3, 4)\n",
        "v2 = Vector(1, 2)\n",
        "\n",
        "# Add the two vectors using + operator (operator overloading)\n",
        "v3 = v1 + v2\n",
        "\n",
        "# Print the result\n",
        "print(v3)"
      ],
      "metadata": {
        "colab": {
          "base_uri": "https://localhost:8080/"
        },
        "id": "_wP5pQpw7Dx1",
        "outputId": "0501d17d-e53d-4206-8c40-b922d127d232"
      },
      "execution_count": 10,
      "outputs": [
        {
          "output_type": "stream",
          "name": "stdout",
          "text": [
            "Vector(4, 6)\n"
          ]
        }
      ]
    },
    {
      "cell_type": "markdown",
      "source": [
        "11. Create a class Person with attributes name and age. Add a method greet() that prints \"Hello, my name is {name} and I am {age} years old.\""
      ],
      "metadata": {
        "id": "cqgoE0tR7NSx"
      }
    },
    {
      "cell_type": "code",
      "source": [
        "class Person:\n",
        "    def __init__(self, name, age):\n",
        "        self.name = name\n",
        "        self.age = age\n",
        "\n",
        "    def greet(self):\n",
        "        print(f\"Hello, my name is {self.name} and I am {self.age} years old.\")\n",
        "\n",
        "# Create a Person object\n",
        "p1 = Person(\"Ram\", 25)\n",
        "\n",
        "# Call the greet method\n",
        "p1.greet()"
      ],
      "metadata": {
        "colab": {
          "base_uri": "https://localhost:8080/"
        },
        "id": "zdQvSWza7XAO",
        "outputId": "ed6dc3b1-d740-4f98-d62f-42c052d2e973"
      },
      "execution_count": 11,
      "outputs": [
        {
          "output_type": "stream",
          "name": "stdout",
          "text": [
            "Hello, my name is Ram and I am 25 years old.\n"
          ]
        }
      ]
    },
    {
      "cell_type": "markdown",
      "source": [
        "12. Implement a class Student with attributes name and grades. Create a method average_grade() to compute the average of the grades."
      ],
      "metadata": {
        "id": "-jM5iEmu7i4j"
      }
    },
    {
      "cell_type": "code",
      "source": [
        "class Student:\n",
        "    def __init__(self, name, grades):\n",
        "        self.name = name\n",
        "        self.grades = grades  # Expecting a list of numbers\n",
        "\n",
        "    def average_grade(self):\n",
        "        if len(self.grades) == 0:\n",
        "            return 0\n",
        "        return sum(self.grades) / len(self.grades)\n",
        "\n",
        "# Create a Student object\n",
        "s1 = Student(\"Jeeva\", [85, 90, 78, 92, 88])\n",
        "\n",
        "# Compute and print the average grade\n",
        "average = s1.average_grade()\n",
        "print(f\"{s1.name}'s average grade is: {average:.2f}\")"
      ],
      "metadata": {
        "colab": {
          "base_uri": "https://localhost:8080/"
        },
        "id": "JuLsQzFY7vj1",
        "outputId": "995ab49b-4626-405f-c5be-ec0c798f2009"
      },
      "execution_count": 12,
      "outputs": [
        {
          "output_type": "stream",
          "name": "stdout",
          "text": [
            "Jeeva's average grade is: 86.60\n"
          ]
        }
      ]
    },
    {
      "cell_type": "markdown",
      "source": [
        "13. Create a class Rectangle with methods set_dimensions() to set the dimensions and area() to calculate the area"
      ],
      "metadata": {
        "id": "QbSbxRaM736o"
      }
    },
    {
      "cell_type": "code",
      "source": [
        "class Rectangle:\n",
        "    def __init__(self):\n",
        "        self.length = 0\n",
        "        self.width = 0\n",
        "\n",
        "    # Method to set dimensions\n",
        "    def set_dimensions(self, length, width):\n",
        "        self.length = length\n",
        "        self.width = width\n",
        "\n",
        "    # Method to calculate area\n",
        "    def area(self):\n",
        "        return self.length * self.width\n",
        "\n",
        "# Create a Rectangle object\n",
        "rect = Rectangle()\n",
        "\n",
        "# Set dimensions\n",
        "rect.set_dimensions(5, 3)\n",
        "\n",
        "# Calculate and print area\n",
        "print(f\"Area of rectangle: {rect.area()}\")"
      ],
      "metadata": {
        "colab": {
          "base_uri": "https://localhost:8080/"
        },
        "id": "PYUREbWS8Fr1",
        "outputId": "46bc38b1-b5e1-444d-fbcc-5ff2ab69c71c"
      },
      "execution_count": 13,
      "outputs": [
        {
          "output_type": "stream",
          "name": "stdout",
          "text": [
            "Area of rectangle: 15\n"
          ]
        }
      ]
    },
    {
      "cell_type": "markdown",
      "source": [
        "14. Create a class Employee with a method calculate_salary() that computes the salary based on hours worked and hourly rate. Create a derived class Manager that adds a bonus to the salary"
      ],
      "metadata": {
        "id": "HKqTzsrz8NeA"
      }
    },
    {
      "cell_type": "code",
      "source": [
        "class Employee:\n",
        "    def __init__(self, name, hours_worked, hourly_rate):\n",
        "        self.name = name\n",
        "        self.hours_worked = hours_worked\n",
        "        self.hourly_rate = hourly_rate\n",
        "\n",
        "    # Method to calculate salary\n",
        "    def calculate_salary(self):\n",
        "        return self.hours_worked * self.hourly_rate\n",
        "\n",
        "# Derived class: Manager\n",
        "class Manager(Employee):\n",
        "    def __init__(self, name, hours_worked, hourly_rate, bonus):\n",
        "        super().__init__(name, hours_worked, hourly_rate)\n",
        "        self.bonus = bonus\n",
        "\n",
        "    # Override calculate_salary to add bonus\n",
        "    def calculate_salary(self):\n",
        "        base_salary = super().calculate_salary()\n",
        "        return base_salary + self.bonus\n",
        "\n",
        "# Create Employee and Manager objects\n",
        "emp = Employee(\"Ragu\", 160, 200)\n",
        "mgr = Manager(\"Anu\", 160, 250, 5000)\n",
        "\n",
        "# Calculate and print salaries\n",
        "print(f\"{emp.name}'s Salary: ₹{emp.calculate_salary()}\")\n",
        "print(f\"{mgr.name}'s Salary: ₹{mgr.calculate_salary()}\")\n"
      ],
      "metadata": {
        "colab": {
          "base_uri": "https://localhost:8080/"
        },
        "id": "N35vg_Lb8aQ1",
        "outputId": "9e8b9471-6d35-4486-ef97-03fc3bbc7e50"
      },
      "execution_count": 14,
      "outputs": [
        {
          "output_type": "stream",
          "name": "stdout",
          "text": [
            "Ragu's Salary: ₹32000\n",
            "Anu's Salary: ₹45000\n"
          ]
        }
      ]
    },
    {
      "cell_type": "markdown",
      "source": [
        "15. Create a class Product with attributes name, price, and quantity. Implement a method total_price() that calculates the total price of the product"
      ],
      "metadata": {
        "id": "8-Nrmaya8rOG"
      }
    },
    {
      "cell_type": "code",
      "source": [
        "class Product:\n",
        "    def __init__(self, name, price, quantity):\n",
        "        self.name = name\n",
        "        self.price = price\n",
        "        self.quantity = quantity\n",
        "\n",
        "    # Method to calculate total price\n",
        "    def total_price(self):\n",
        "        return self.price * self.quantity\n",
        "\n",
        "# Create a Product object\n",
        "product1 = Product(\"Laptop\", 50000, 2)\n",
        "\n",
        "# Calculate and print total price\n",
        "print(f\"Total price for {product1.name}: ₹{product1.total_price()}\")"
      ],
      "metadata": {
        "colab": {
          "base_uri": "https://localhost:8080/"
        },
        "id": "mx8i20Yj8782",
        "outputId": "d5b22557-6d18-48e8-fb1c-795c79cb3d13"
      },
      "execution_count": 15,
      "outputs": [
        {
          "output_type": "stream",
          "name": "stdout",
          "text": [
            "Total price for Laptop: ₹100000\n"
          ]
        }
      ]
    },
    {
      "cell_type": "markdown",
      "source": [
        " 16. Create a class Animal with an abstract method sound(). Create two derived classes Cow and Sheep that implement the sound() method."
      ],
      "metadata": {
        "id": "xeFvytdU9Cbf"
      }
    },
    {
      "cell_type": "code",
      "source": [
        "from abc import ABC, abstractmethod\n",
        "\n",
        "# Abstract base class\n",
        "class Animal(ABC):\n",
        "    @abstractmethod\n",
        "    def sound(self):\n",
        "        pass\n",
        "\n",
        "# Derived class: Cow\n",
        "class Cow(Animal):\n",
        "    def sound(self):\n",
        "        print(\"Cow says: Moo!\")\n",
        "\n",
        "# Derived class: Sheep\n",
        "class Cat(Animal):\n",
        "    def sound(self):\n",
        "        print(\"Cat says: Meow!\")\n",
        "\n",
        "# Create objects and call the sound() method\n",
        "cow = Cow()\n",
        "cat = Cat()\n",
        "\n",
        "cow.sound()\n",
        "cat.sound()"
      ],
      "metadata": {
        "colab": {
          "base_uri": "https://localhost:8080/"
        },
        "id": "vT5olYO69QoN",
        "outputId": "e7a7cc43-5f4f-4eb0-ff02-8f6c6969f618"
      },
      "execution_count": 18,
      "outputs": [
        {
          "output_type": "stream",
          "name": "stdout",
          "text": [
            "Cow says: Moo!\n",
            "Cat says: Meow!\n"
          ]
        }
      ]
    },
    {
      "cell_type": "markdown",
      "source": [
        "17. Create a class Book with attributes title, author, and year_published. Add a method get_book_info() that returns a formatted string with the book's details"
      ],
      "metadata": {
        "id": "GlsrjKlp9z-W"
      }
    },
    {
      "cell_type": "code",
      "source": [
        "class Book:\n",
        "    def __init__(self, title, author, year_published):\n",
        "        self.title = title\n",
        "        self.author = author\n",
        "        self.year_published = year_published\n",
        "\n",
        "    # Method to get book details as a formatted string\n",
        "    def get_book_info(self):\n",
        "        return f\"'{self.title}' by {self.author}, published in {self.year_published}.\"\n",
        "\n",
        "# Create a Book object\n",
        "book1 = Book(\"The Alchemist\", \"Paulo Coelho\", 1988)\n",
        "\n",
        "# Get and print book information\n",
        "print(book1.get_book_info())"
      ],
      "metadata": {
        "colab": {
          "base_uri": "https://localhost:8080/"
        },
        "id": "KVPC2-3L9_CN",
        "outputId": "30cc9ea1-2e9d-4101-ae06-c86342ba599d"
      },
      "execution_count": 19,
      "outputs": [
        {
          "output_type": "stream",
          "name": "stdout",
          "text": [
            "'The Alchemist' by Paulo Coelho, published in 1988.\n"
          ]
        }
      ]
    },
    {
      "cell_type": "markdown",
      "source": [
        "18. Create a class House with attributes address and price. Create a derived class Mansion that adds an attribute number_of_rooms."
      ],
      "metadata": {
        "id": "1ke06hiE-Gea"
      }
    },
    {
      "cell_type": "code",
      "source": [
        "class House:\n",
        "    def __init__(self, address, price):\n",
        "        self.address = address\n",
        "        self.price = price\n",
        "\n",
        "    def display_info(self):\n",
        "        print(f\"Address: {self.address}\")\n",
        "        print(f\"Price: ₹{self.price}\")\n",
        "\n",
        "# Derived class: Mansion\n",
        "class Mansion(House):\n",
        "    def __init__(self, address, price, number_of_rooms):\n",
        "        super().__init__(address, price)  # Call House's constructor\n",
        "        self.number_of_rooms = number_of_rooms\n",
        "\n",
        "    def display_info(self):\n",
        "        super().display_info()  # Call House's display_info\n",
        "        print(f\"Number of Rooms: {self.number_of_rooms}\")\n",
        "\n",
        "# Create a Mansion object\n",
        "mansion1 = Mansion(\"123 Luxury St, Chennai\", 25000000, 10)\n",
        "\n",
        "# Display mansion details\n",
        "mansion1.display_info()"
      ],
      "metadata": {
        "colab": {
          "base_uri": "https://localhost:8080/"
        },
        "id": "EPLWJmyu-RPK",
        "outputId": "72cb684f-fbee-4013-839a-18123fd908ba"
      },
      "execution_count": 20,
      "outputs": [
        {
          "output_type": "stream",
          "name": "stdout",
          "text": [
            "Address: 123 Luxury St, Chennai\n",
            "Price: ₹25000000\n",
            "Number of Rooms: 10\n"
          ]
        }
      ]
    }
  ]
}